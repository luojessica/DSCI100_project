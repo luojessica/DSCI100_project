{
 "cells": [
  {
   "cell_type": "code",
   "execution_count": 5,
   "metadata": {},
   "outputs": [
    {
     "name": "stderr",
     "output_type": "stream",
     "text": [
      "Warning message:\n",
      "“package ‘tidymodels’ was built under R version 4.0.2”\n",
      "── \u001b[1mAttaching packages\u001b[22m ────────────────────────────────────── tidymodels 0.1.1 ──\n",
      "\n",
      "\u001b[32m✔\u001b[39m \u001b[34mbroom    \u001b[39m 0.7.0      \u001b[32m✔\u001b[39m \u001b[34mrecipes  \u001b[39m 0.1.13\n",
      "\u001b[32m✔\u001b[39m \u001b[34mdials    \u001b[39m 0.0.9      \u001b[32m✔\u001b[39m \u001b[34mrsample  \u001b[39m 0.0.7 \n",
      "\u001b[32m✔\u001b[39m \u001b[34minfer    \u001b[39m 0.5.4      \u001b[32m✔\u001b[39m \u001b[34mtune     \u001b[39m 0.1.1 \n",
      "\u001b[32m✔\u001b[39m \u001b[34mmodeldata\u001b[39m 0.0.2      \u001b[32m✔\u001b[39m \u001b[34mworkflows\u001b[39m 0.2.0 \n",
      "\u001b[32m✔\u001b[39m \u001b[34mparsnip  \u001b[39m 0.1.3      \u001b[32m✔\u001b[39m \u001b[34myardstick\u001b[39m 0.0.7 \n",
      "\n",
      "Warning message:\n",
      "“package ‘broom’ was built under R version 4.0.2”\n",
      "Warning message:\n",
      "“package ‘dials’ was built under R version 4.0.2”\n",
      "Warning message:\n",
      "“package ‘infer’ was built under R version 4.0.3”\n",
      "Warning message:\n",
      "“package ‘modeldata’ was built under R version 4.0.1”\n",
      "Warning message:\n",
      "“package ‘parsnip’ was built under R version 4.0.2”\n",
      "Warning message:\n",
      "“package ‘recipes’ was built under R version 4.0.1”\n",
      "Warning message:\n",
      "“package ‘tune’ was built under R version 4.0.2”\n",
      "Warning message:\n",
      "“package ‘workflows’ was built under R version 4.0.2”\n",
      "Warning message:\n",
      "“package ‘yardstick’ was built under R version 4.0.2”\n",
      "── \u001b[1mConflicts\u001b[22m ───────────────────────────────────────── tidymodels_conflicts() ──\n",
      "\u001b[31m✖\u001b[39m \u001b[34mscales\u001b[39m::\u001b[32mdiscard()\u001b[39m masks \u001b[34mpurrr\u001b[39m::discard()\n",
      "\u001b[31m✖\u001b[39m \u001b[34mdplyr\u001b[39m::\u001b[32mfilter()\u001b[39m   masks \u001b[34mstats\u001b[39m::filter()\n",
      "\u001b[31m✖\u001b[39m \u001b[34mrecipes\u001b[39m::\u001b[32mfixed()\u001b[39m  masks \u001b[34mstringr\u001b[39m::fixed()\n",
      "\u001b[31m✖\u001b[39m \u001b[34mdplyr\u001b[39m::\u001b[32mlag()\u001b[39m      masks \u001b[34mstats\u001b[39m::lag()\n",
      "\u001b[31m✖\u001b[39m \u001b[34myardstick\u001b[39m::\u001b[32mspec()\u001b[39m masks \u001b[34mreadr\u001b[39m::spec()\n",
      "\u001b[31m✖\u001b[39m \u001b[34mrecipes\u001b[39m::\u001b[32mstep()\u001b[39m   masks \u001b[34mstats\u001b[39m::step()\n",
      "\n",
      "Parsed with column specification:\n",
      "cols(\n",
      "  .default = col_character(),\n",
      "  response_ID = \u001b[32mcol_double()\u001b[39m,\n",
      "  intelligence_female_asym_1_num = \u001b[32mcol_double()\u001b[39m,\n",
      "  kindness_female_asym_1_num = \u001b[32mcol_double()\u001b[39m,\n",
      "  socialclass_female_asym_1_num = \u001b[32mcol_double()\u001b[39m,\n",
      "  Intelligence_female_sym_1_num = \u001b[32mcol_double()\u001b[39m,\n",
      "  kindness_female_sym_1_num = \u001b[32mcol_double()\u001b[39m,\n",
      "  socialclass_female_sym_1_num = \u001b[32mcol_double()\u001b[39m,\n",
      "  Intelligence_female_asym_2_num = \u001b[32mcol_double()\u001b[39m,\n",
      "  kindness_female_asym_2_num = \u001b[32mcol_double()\u001b[39m,\n",
      "  socialclass_female_asym_2_num = \u001b[32mcol_double()\u001b[39m,\n",
      "  intelligence_female_sym_2_num = \u001b[32mcol_double()\u001b[39m,\n",
      "  kindness_female_sym_2_num = \u001b[32mcol_double()\u001b[39m,\n",
      "  socialclass_female_sym_2_num = \u001b[32mcol_double()\u001b[39m,\n",
      "  intelligence_male_asym_1_num = \u001b[32mcol_double()\u001b[39m,\n",
      "  kindness_male_asym_1_num = \u001b[32mcol_double()\u001b[39m,\n",
      "  socialclass_male_asym_1_num = \u001b[32mcol_double()\u001b[39m,\n",
      "  intelligence_male_sym_1_num = \u001b[32mcol_double()\u001b[39m,\n",
      "  kindness_male_sym_1_num = \u001b[32mcol_double()\u001b[39m,\n",
      "  socialclass_male_sym_1_num = \u001b[32mcol_double()\u001b[39m,\n",
      "  intelligence_male_asym_2_num = \u001b[32mcol_double()\u001b[39m\n",
      "  # ... with 5 more columns\n",
      ")\n",
      "\n",
      "See spec(...) for full column specifications.\n",
      "\n"
     ]
    }
   ],
   "source": [
    "library(tidyverse)\n",
    "library(repr)\n",
    "library(tidymodels)\n",
    "\n",
    "data <- read_csv(\"facial_symmetry_study_data.csv\")\n"
   ]
  },
  {
   "cell_type": "code",
   "execution_count": null,
   "metadata": {},
   "outputs": [],
   "source": []
  }
 ],
 "metadata": {
  "kernelspec": {
   "display_name": "R",
   "language": "R",
   "name": "ir"
  },
  "language_info": {
   "codemirror_mode": "r",
   "file_extension": ".r",
   "mimetype": "text/x-r-source",
   "name": "R",
   "pygments_lexer": "r",
   "version": "4.0.0"
  }
 },
 "nbformat": 4,
 "nbformat_minor": 4
}
