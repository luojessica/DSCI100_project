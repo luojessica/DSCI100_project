{
 "cells": [
  {
   "cell_type": "code",
   "execution_count": 1,
   "metadata": {},
   "outputs": [
    {
     "name": "stderr",
     "output_type": "stream",
     "text": [
      "── \u001b[1mAttaching packages\u001b[22m ─────────────────────────────────────── tidyverse 1.3.0 ──\n",
      "\n",
      "\u001b[32m✔\u001b[39m \u001b[34mggplot2\u001b[39m 3.3.2     \u001b[32m✔\u001b[39m \u001b[34mpurrr  \u001b[39m 0.3.4\n",
      "\u001b[32m✔\u001b[39m \u001b[34mtibble \u001b[39m 3.0.3     \u001b[32m✔\u001b[39m \u001b[34mdplyr  \u001b[39m 1.0.2\n",
      "\u001b[32m✔\u001b[39m \u001b[34mtidyr  \u001b[39m 1.1.2     \u001b[32m✔\u001b[39m \u001b[34mstringr\u001b[39m 1.4.0\n",
      "\u001b[32m✔\u001b[39m \u001b[34mreadr  \u001b[39m 1.3.1     \u001b[32m✔\u001b[39m \u001b[34mforcats\u001b[39m 0.5.0\n",
      "\n",
      "Warning message:\n",
      "“package ‘ggplot2’ was built under R version 4.0.1”\n",
      "Warning message:\n",
      "“package ‘tibble’ was built under R version 4.0.2”\n",
      "Warning message:\n",
      "“package ‘tidyr’ was built under R version 4.0.2”\n",
      "Warning message:\n",
      "“package ‘dplyr’ was built under R version 4.0.2”\n",
      "── \u001b[1mConflicts\u001b[22m ────────────────────────────────────────── tidyverse_conflicts() ──\n",
      "\u001b[31m✖\u001b[39m \u001b[34mdplyr\u001b[39m::\u001b[32mfilter()\u001b[39m masks \u001b[34mstats\u001b[39m::filter()\n",
      "\u001b[31m✖\u001b[39m \u001b[34mdplyr\u001b[39m::\u001b[32mlag()\u001b[39m    masks \u001b[34mstats\u001b[39m::lag()\n",
      "\n",
      "Warning message:\n",
      "“package ‘tidymodels’ was built under R version 4.0.2”\n",
      "── \u001b[1mAttaching packages\u001b[22m ────────────────────────────────────── tidymodels 0.1.1 ──\n",
      "\n",
      "\u001b[32m✔\u001b[39m \u001b[34mbroom    \u001b[39m 0.7.0      \u001b[32m✔\u001b[39m \u001b[34mrecipes  \u001b[39m 0.1.13\n",
      "\u001b[32m✔\u001b[39m \u001b[34mdials    \u001b[39m 0.0.9      \u001b[32m✔\u001b[39m \u001b[34mrsample  \u001b[39m 0.0.7 \n",
      "\u001b[32m✔\u001b[39m \u001b[34minfer    \u001b[39m 0.5.4      \u001b[32m✔\u001b[39m \u001b[34mtune     \u001b[39m 0.1.1 \n",
      "\u001b[32m✔\u001b[39m \u001b[34mmodeldata\u001b[39m 0.0.2      \u001b[32m✔\u001b[39m \u001b[34mworkflows\u001b[39m 0.2.0 \n",
      "\u001b[32m✔\u001b[39m \u001b[34mparsnip  \u001b[39m 0.1.3      \u001b[32m✔\u001b[39m \u001b[34myardstick\u001b[39m 0.0.7 \n",
      "\n",
      "Warning message:\n",
      "“package ‘broom’ was built under R version 4.0.2”\n",
      "Warning message:\n",
      "“package ‘dials’ was built under R version 4.0.2”\n",
      "Warning message:\n",
      "“package ‘infer’ was built under R version 4.0.3”\n",
      "Warning message:\n",
      "“package ‘modeldata’ was built under R version 4.0.1”\n",
      "Warning message:\n",
      "“package ‘parsnip’ was built under R version 4.0.2”\n",
      "Warning message:\n",
      "“package ‘recipes’ was built under R version 4.0.1”\n",
      "Warning message:\n",
      "“package ‘tune’ was built under R version 4.0.2”\n",
      "Warning message:\n",
      "“package ‘workflows’ was built under R version 4.0.2”\n",
      "Warning message:\n",
      "“package ‘yardstick’ was built under R version 4.0.2”\n",
      "── \u001b[1mConflicts\u001b[22m ───────────────────────────────────────── tidymodels_conflicts() ──\n",
      "\u001b[31m✖\u001b[39m \u001b[34mscales\u001b[39m::\u001b[32mdiscard()\u001b[39m masks \u001b[34mpurrr\u001b[39m::discard()\n",
      "\u001b[31m✖\u001b[39m \u001b[34mdplyr\u001b[39m::\u001b[32mfilter()\u001b[39m   masks \u001b[34mstats\u001b[39m::filter()\n",
      "\u001b[31m✖\u001b[39m \u001b[34mrecipes\u001b[39m::\u001b[32mfixed()\u001b[39m  masks \u001b[34mstringr\u001b[39m::fixed()\n",
      "\u001b[31m✖\u001b[39m \u001b[34mdplyr\u001b[39m::\u001b[32mlag()\u001b[39m      masks \u001b[34mstats\u001b[39m::lag()\n",
      "\u001b[31m✖\u001b[39m \u001b[34myardstick\u001b[39m::\u001b[32mspec()\u001b[39m masks \u001b[34mreadr\u001b[39m::spec()\n",
      "\u001b[31m✖\u001b[39m \u001b[34mrecipes\u001b[39m::\u001b[32mstep()\u001b[39m   masks \u001b[34mstats\u001b[39m::step()\n",
      "\n"
     ]
    }
   ],
   "source": [
    "library(tidyverse)\n",
    "library(repr)\n",
    "library(tidymodels)"
   ]
  },
  {
   "cell_type": "markdown",
   "metadata": {},
   "source": [
    "***Method & Results***"
   ]
  },
  {
   "cell_type": "markdown",
   "metadata": {},
   "source": [
    "In our project, we are using classification model to predict the type of the stars (`Type`) based on two predictors: Temperature(K) (`Temperature`) and Absolute Magnitude (`A_M`). In our dataset, the type of stars is represented by 0, 1, 2, 3, 4, 5, where 0 = Red Dwarf, 1 = Brown Dwarf, 2 = White Dwarf, 3 = Main Sequence, 4 = Super Giants, 5 = Hyper Giants."
   ]
  },
  {
   "cell_type": "markdown",
   "metadata": {},
   "source": [
    "First, we need to load data from the original source on the web using `read_csv` function, and we name the dataset `Stars`. We can have a look of our dataset using `head` function."
   ]
  },
  {
   "cell_type": "code",
   "execution_count": 2,
   "metadata": {},
   "outputs": [
    {
     "name": "stderr",
     "output_type": "stream",
     "text": [
      "Parsed with column specification:\n",
      "cols(\n",
      "  Temperature = \u001b[32mcol_double()\u001b[39m,\n",
      "  L = \u001b[32mcol_double()\u001b[39m,\n",
      "  R = \u001b[32mcol_double()\u001b[39m,\n",
      "  A_M = \u001b[32mcol_double()\u001b[39m,\n",
      "  Color = \u001b[31mcol_character()\u001b[39m,\n",
      "  Spectral_Class = \u001b[31mcol_character()\u001b[39m,\n",
      "  Type = \u001b[32mcol_double()\u001b[39m\n",
      ")\n",
      "\n"
     ]
    },
    {
     "data": {
      "text/html": [
       "<table>\n",
       "<caption>A tibble: 6 × 7</caption>\n",
       "<thead>\n",
       "\t<tr><th scope=col>Temperature</th><th scope=col>L</th><th scope=col>R</th><th scope=col>A_M</th><th scope=col>Color</th><th scope=col>Spectral_Class</th><th scope=col>Type</th></tr>\n",
       "\t<tr><th scope=col>&lt;dbl&gt;</th><th scope=col>&lt;dbl&gt;</th><th scope=col>&lt;dbl&gt;</th><th scope=col>&lt;dbl&gt;</th><th scope=col>&lt;chr&gt;</th><th scope=col>&lt;chr&gt;</th><th scope=col>&lt;dbl&gt;</th></tr>\n",
       "</thead>\n",
       "<tbody>\n",
       "\t<tr><td>3068</td><td>0.002400</td><td>0.1700</td><td>16.12</td><td>Red</td><td>M</td><td>0</td></tr>\n",
       "\t<tr><td>3042</td><td>0.000500</td><td>0.1542</td><td>16.60</td><td>Red</td><td>M</td><td>0</td></tr>\n",
       "\t<tr><td>2600</td><td>0.000300</td><td>0.1020</td><td>18.70</td><td>Red</td><td>M</td><td>0</td></tr>\n",
       "\t<tr><td>2800</td><td>0.000200</td><td>0.1600</td><td>16.65</td><td>Red</td><td>M</td><td>0</td></tr>\n",
       "\t<tr><td>1939</td><td>0.000138</td><td>0.1030</td><td>20.06</td><td>Red</td><td>M</td><td>0</td></tr>\n",
       "\t<tr><td>2840</td><td>0.000650</td><td>0.1100</td><td>16.98</td><td>Red</td><td>M</td><td>0</td></tr>\n",
       "</tbody>\n",
       "</table>\n"
      ],
      "text/latex": [
       "A tibble: 6 × 7\n",
       "\\begin{tabular}{lllllll}\n",
       " Temperature & L & R & A\\_M & Color & Spectral\\_Class & Type\\\\\n",
       " <dbl> & <dbl> & <dbl> & <dbl> & <chr> & <chr> & <dbl>\\\\\n",
       "\\hline\n",
       "\t 3068 & 0.002400 & 0.1700 & 16.12 & Red & M & 0\\\\\n",
       "\t 3042 & 0.000500 & 0.1542 & 16.60 & Red & M & 0\\\\\n",
       "\t 2600 & 0.000300 & 0.1020 & 18.70 & Red & M & 0\\\\\n",
       "\t 2800 & 0.000200 & 0.1600 & 16.65 & Red & M & 0\\\\\n",
       "\t 1939 & 0.000138 & 0.1030 & 20.06 & Red & M & 0\\\\\n",
       "\t 2840 & 0.000650 & 0.1100 & 16.98 & Red & M & 0\\\\\n",
       "\\end{tabular}\n"
      ],
      "text/markdown": [
       "\n",
       "A tibble: 6 × 7\n",
       "\n",
       "| Temperature &lt;dbl&gt; | L &lt;dbl&gt; | R &lt;dbl&gt; | A_M &lt;dbl&gt; | Color &lt;chr&gt; | Spectral_Class &lt;chr&gt; | Type &lt;dbl&gt; |\n",
       "|---|---|---|---|---|---|---|\n",
       "| 3068 | 0.002400 | 0.1700 | 16.12 | Red | M | 0 |\n",
       "| 3042 | 0.000500 | 0.1542 | 16.60 | Red | M | 0 |\n",
       "| 2600 | 0.000300 | 0.1020 | 18.70 | Red | M | 0 |\n",
       "| 2800 | 0.000200 | 0.1600 | 16.65 | Red | M | 0 |\n",
       "| 1939 | 0.000138 | 0.1030 | 20.06 | Red | M | 0 |\n",
       "| 2840 | 0.000650 | 0.1100 | 16.98 | Red | M | 0 |\n",
       "\n"
      ],
      "text/plain": [
       "  Temperature L        R      A_M   Color Spectral_Class Type\n",
       "1 3068        0.002400 0.1700 16.12 Red   M              0   \n",
       "2 3042        0.000500 0.1542 16.60 Red   M              0   \n",
       "3 2600        0.000300 0.1020 18.70 Red   M              0   \n",
       "4 2800        0.000200 0.1600 16.65 Red   M              0   \n",
       "5 1939        0.000138 0.1030 20.06 Red   M              0   \n",
       "6 2840        0.000650 0.1100 16.98 Red   M              0   "
      ]
     },
     "metadata": {},
     "output_type": "display_data"
    }
   ],
   "source": [
    "Stars <- read_csv(\"data/Stars.csv\")\n",
    "head(Stars)"
   ]
  },
  {
   "cell_type": "markdown",
   "metadata": {},
   "source": [
    "As we can see, we have seven columns in the dataset, but we only need three of them, which are `Temperature`, `A_M`, and `Type`. Thus, we need to wrangle and clean the data from it's original (downloaded) format to the format necessary for the planned analysis. To clean our data, we will use `select` function to choose the columns we need and make the data into a new data called `stars`, and then we will convert `Type` from double to factor using `as_factor` function since `Type` is the target that we will predict in this project. We can have a look of our new data using `head` function again. "
   ]
  },
  {
   "cell_type": "code",
   "execution_count": 3,
   "metadata": {},
   "outputs": [
    {
     "data": {
      "text/html": [
       "<table>\n",
       "<caption>A tibble: 6 × 3</caption>\n",
       "<thead>\n",
       "\t<tr><th scope=col>Temperature</th><th scope=col>A_M</th><th scope=col>Type</th></tr>\n",
       "\t<tr><th scope=col>&lt;dbl&gt;</th><th scope=col>&lt;dbl&gt;</th><th scope=col>&lt;fct&gt;</th></tr>\n",
       "</thead>\n",
       "<tbody>\n",
       "\t<tr><td>3068</td><td>16.12</td><td>0</td></tr>\n",
       "\t<tr><td>3042</td><td>16.60</td><td>0</td></tr>\n",
       "\t<tr><td>2600</td><td>18.70</td><td>0</td></tr>\n",
       "\t<tr><td>2800</td><td>16.65</td><td>0</td></tr>\n",
       "\t<tr><td>1939</td><td>20.06</td><td>0</td></tr>\n",
       "\t<tr><td>2840</td><td>16.98</td><td>0</td></tr>\n",
       "</tbody>\n",
       "</table>\n"
      ],
      "text/latex": [
       "A tibble: 6 × 3\n",
       "\\begin{tabular}{lll}\n",
       " Temperature & A\\_M & Type\\\\\n",
       " <dbl> & <dbl> & <fct>\\\\\n",
       "\\hline\n",
       "\t 3068 & 16.12 & 0\\\\\n",
       "\t 3042 & 16.60 & 0\\\\\n",
       "\t 2600 & 18.70 & 0\\\\\n",
       "\t 2800 & 16.65 & 0\\\\\n",
       "\t 1939 & 20.06 & 0\\\\\n",
       "\t 2840 & 16.98 & 0\\\\\n",
       "\\end{tabular}\n"
      ],
      "text/markdown": [
       "\n",
       "A tibble: 6 × 3\n",
       "\n",
       "| Temperature &lt;dbl&gt; | A_M &lt;dbl&gt; | Type &lt;fct&gt; |\n",
       "|---|---|---|\n",
       "| 3068 | 16.12 | 0 |\n",
       "| 3042 | 16.60 | 0 |\n",
       "| 2600 | 18.70 | 0 |\n",
       "| 2800 | 16.65 | 0 |\n",
       "| 1939 | 20.06 | 0 |\n",
       "| 2840 | 16.98 | 0 |\n",
       "\n"
      ],
      "text/plain": [
       "  Temperature A_M   Type\n",
       "1 3068        16.12 0   \n",
       "2 3042        16.60 0   \n",
       "3 2600        18.70 0   \n",
       "4 2800        16.65 0   \n",
       "5 1939        20.06 0   \n",
       "6 2840        16.98 0   "
      ]
     },
     "metadata": {},
     "output_type": "display_data"
    }
   ],
   "source": [
    "stars <- Stars %>%\n",
    "select(Temperature, A_M, Type) %>%\n",
    "mutate(Type = as_factor(Type))\n",
    "\n",
    "head(stars)"
   ]
  },
  {
   "cell_type": "markdown",
   "metadata": {},
   "source": [
    "We can summarize our new data by computing the mean temperature and mean absolute magnitude of each type of stars. To perform this, we will use `group_by` function to group the data into different types, and then we will use `summarize` function to compute the mean temperature and mean absolute magnitude of each type. We name the summary of data `star_summary`."
   ]
  },
  {
   "cell_type": "code",
   "execution_count": 4,
   "metadata": {},
   "outputs": [
    {
     "name": "stderr",
     "output_type": "stream",
     "text": [
      "`summarise()` ungrouping output (override with `.groups` argument)\n",
      "\n"
     ]
    },
    {
     "data": {
      "text/html": [
       "<table>\n",
       "<caption>A tibble: 6 × 3</caption>\n",
       "<thead>\n",
       "\t<tr><th scope=col>Type</th><th scope=col>mean_temp</th><th scope=col>mean_A_M</th></tr>\n",
       "\t<tr><th scope=col>&lt;fct&gt;</th><th scope=col>&lt;dbl&gt;</th><th scope=col>&lt;dbl&gt;</th></tr>\n",
       "</thead>\n",
       "<tbody>\n",
       "\t<tr><td>0</td><td> 2997.950</td><td>17.563500</td></tr>\n",
       "\t<tr><td>1</td><td> 3283.825</td><td>12.539975</td></tr>\n",
       "\t<tr><td>2</td><td>13931.450</td><td>12.582500</td></tr>\n",
       "\t<tr><td>3</td><td>16018.000</td><td>-0.367425</td></tr>\n",
       "\t<tr><td>4</td><td>15347.850</td><td>-6.369925</td></tr>\n",
       "\t<tr><td>5</td><td>11405.700</td><td>-9.654250</td></tr>\n",
       "</tbody>\n",
       "</table>\n"
      ],
      "text/latex": [
       "A tibble: 6 × 3\n",
       "\\begin{tabular}{lll}\n",
       " Type & mean\\_temp & mean\\_A\\_M\\\\\n",
       " <fct> & <dbl> & <dbl>\\\\\n",
       "\\hline\n",
       "\t 0 &  2997.950 & 17.563500\\\\\n",
       "\t 1 &  3283.825 & 12.539975\\\\\n",
       "\t 2 & 13931.450 & 12.582500\\\\\n",
       "\t 3 & 16018.000 & -0.367425\\\\\n",
       "\t 4 & 15347.850 & -6.369925\\\\\n",
       "\t 5 & 11405.700 & -9.654250\\\\\n",
       "\\end{tabular}\n"
      ],
      "text/markdown": [
       "\n",
       "A tibble: 6 × 3\n",
       "\n",
       "| Type &lt;fct&gt; | mean_temp &lt;dbl&gt; | mean_A_M &lt;dbl&gt; |\n",
       "|---|---|---|\n",
       "| 0 |  2997.950 | 17.563500 |\n",
       "| 1 |  3283.825 | 12.539975 |\n",
       "| 2 | 13931.450 | 12.582500 |\n",
       "| 3 | 16018.000 | -0.367425 |\n",
       "| 4 | 15347.850 | -6.369925 |\n",
       "| 5 | 11405.700 | -9.654250 |\n",
       "\n"
      ],
      "text/plain": [
       "  Type mean_temp mean_A_M \n",
       "1 0     2997.950 17.563500\n",
       "2 1     3283.825 12.539975\n",
       "3 2    13931.450 12.582500\n",
       "4 3    16018.000 -0.367425\n",
       "5 4    15347.850 -6.369925\n",
       "6 5    11405.700 -9.654250"
      ]
     },
     "metadata": {},
     "output_type": "display_data"
    }
   ],
   "source": [
    "star_summary <- stars %>%\n",
    "group_by(Type) %>%\n",
    "summarize(mean_temp = mean(Temperature),\n",
    "         mean_A_M = mean(A_M))\n",
    "\n",
    "star_summary"
   ]
  },
  {
   "cell_type": "markdown",
   "metadata": {},
   "source": [
    "Then, we will visualize our data `stars` by a scatter plot. We call this plot `star_plot`. We use `ggplot` and `geom_point` to make a scatter plot, and we use `xlab` and `ylab` to label the x-axis and y-axis. We can also label the legend use `labs` function. `ggtitle` gives a title to the plot. `options` function is used to decide the size of the plot and `theme` function is used to determine the font size. "
   ]
  },
  {
   "cell_type": "code",
   "execution_count": 5,
   "metadata": {},
   "outputs": [
    {
     "data": {
      "image/png": "[encoded data removed]",
      "text/plain": [
       "plot without title"
      ]
     },
     "metadata": {
      "image/png": {
       "height": 480,
       "width": 600
      }
     },
     "output_type": "display_data"
    }
   ],
   "source": [
    "options(repr.plot.width = 10, repr.plot.height = 8)\n",
    "\n",
    "star_plot <- stars %>%\n",
    "ggplot(aes(x = Temperature, y = A_M, color = Type)) +\n",
    "geom_point(alpha = 0.4) +\n",
    "xlab(\"Temperature(K)\") +\n",
    "ylab(\"Absolute Magnitude\")+\n",
    "labs(color = \"Type of Stars\") +\n",
    "theme(text = element_text(size = 20)) \n",
    "\n",
    "star_plot"
   ]
  },
  {
   "cell_type": "markdown",
   "metadata": {},
   "source": [
    "After that, we will start analyzing the data using classification model. First, we split `stars` data into training data and testing data using `initial_split` function. We want to use 75% of the data as training data, and we use `prop` to set this. For the `strata` argument, we place the variable we want to classify, `Type`. We call the training set `star_training` and the testing set `star_testing`."
   ]
  },
  {
   "cell_type": "code",
   "execution_count": 6,
   "metadata": {},
   "outputs": [
    {
     "data": {
      "text/html": [
       "<table>\n",
       "<caption>A tibble: 6 × 3</caption>\n",
       "<thead>\n",
       "\t<tr><th scope=col>Temperature</th><th scope=col>A_M</th><th scope=col>Type</th></tr>\n",
       "\t<tr><th scope=col>&lt;dbl&gt;</th><th scope=col>&lt;dbl&gt;</th><th scope=col>&lt;fct&gt;</th></tr>\n",
       "</thead>\n",
       "<tbody>\n",
       "\t<tr><td>3042</td><td>16.60</td><td>0</td></tr>\n",
       "\t<tr><td>2600</td><td>18.70</td><td>0</td></tr>\n",
       "\t<tr><td>2800</td><td>16.65</td><td>0</td></tr>\n",
       "\t<tr><td>2840</td><td>16.98</td><td>0</td></tr>\n",
       "\t<tr><td>2650</td><td>17.45</td><td>0</td></tr>\n",
       "\t<tr><td>2700</td><td>16.05</td><td>0</td></tr>\n",
       "</tbody>\n",
       "</table>\n"
      ],
      "text/latex": [
       "A tibble: 6 × 3\n",
       "\\begin{tabular}{lll}\n",
       " Temperature & A\\_M & Type\\\\\n",
       " <dbl> & <dbl> & <fct>\\\\\n",
       "\\hline\n",
       "\t 3042 & 16.60 & 0\\\\\n",
       "\t 2600 & 18.70 & 0\\\\\n",
       "\t 2800 & 16.65 & 0\\\\\n",
       "\t 2840 & 16.98 & 0\\\\\n",
       "\t 2650 & 17.45 & 0\\\\\n",
       "\t 2700 & 16.05 & 0\\\\\n",
       "\\end{tabular}\n"
      ],
      "text/markdown": [
       "\n",
       "A tibble: 6 × 3\n",
       "\n",
       "| Temperature &lt;dbl&gt; | A_M &lt;dbl&gt; | Type &lt;fct&gt; |\n",
       "|---|---|---|\n",
       "| 3042 | 16.60 | 0 |\n",
       "| 2600 | 18.70 | 0 |\n",
       "| 2800 | 16.65 | 0 |\n",
       "| 2840 | 16.98 | 0 |\n",
       "| 2650 | 17.45 | 0 |\n",
       "| 2700 | 16.05 | 0 |\n",
       "\n"
      ],
      "text/plain": [
       "  Temperature A_M   Type\n",
       "1 3042        16.60 0   \n",
       "2 2600        18.70 0   \n",
       "3 2800        16.65 0   \n",
       "4 2840        16.98 0   \n",
       "5 2650        17.45 0   \n",
       "6 2700        16.05 0   "
      ]
     },
     "metadata": {},
     "output_type": "display_data"
    },
    {
     "data": {
      "text/html": [
       "<table>\n",
       "<caption>A tibble: 6 × 3</caption>\n",
       "<thead>\n",
       "\t<tr><th scope=col>Temperature</th><th scope=col>A_M</th><th scope=col>Type</th></tr>\n",
       "\t<tr><th scope=col>&lt;dbl&gt;</th><th scope=col>&lt;dbl&gt;</th><th scope=col>&lt;fct&gt;</th></tr>\n",
       "</thead>\n",
       "<tbody>\n",
       "\t<tr><td>3068</td><td>16.12</td><td>0</td></tr>\n",
       "\t<tr><td>1939</td><td>20.06</td><td>0</td></tr>\n",
       "\t<tr><td>2637</td><td>17.22</td><td>0</td></tr>\n",
       "\t<tr><td>2600</td><td>17.40</td><td>0</td></tr>\n",
       "\t<tr><td>3129</td><td>11.79</td><td>1</td></tr>\n",
       "\t<tr><td>3441</td><td>11.18</td><td>1</td></tr>\n",
       "</tbody>\n",
       "</table>\n"
      ],
      "text/latex": [
       "A tibble: 6 × 3\n",
       "\\begin{tabular}{lll}\n",
       " Temperature & A\\_M & Type\\\\\n",
       " <dbl> & <dbl> & <fct>\\\\\n",
       "\\hline\n",
       "\t 3068 & 16.12 & 0\\\\\n",
       "\t 1939 & 20.06 & 0\\\\\n",
       "\t 2637 & 17.22 & 0\\\\\n",
       "\t 2600 & 17.40 & 0\\\\\n",
       "\t 3129 & 11.79 & 1\\\\\n",
       "\t 3441 & 11.18 & 1\\\\\n",
       "\\end{tabular}\n"
      ],
      "text/markdown": [
       "\n",
       "A tibble: 6 × 3\n",
       "\n",
       "| Temperature &lt;dbl&gt; | A_M &lt;dbl&gt; | Type &lt;fct&gt; |\n",
       "|---|---|---|\n",
       "| 3068 | 16.12 | 0 |\n",
       "| 1939 | 20.06 | 0 |\n",
       "| 2637 | 17.22 | 0 |\n",
       "| 2600 | 17.40 | 0 |\n",
       "| 3129 | 11.79 | 1 |\n",
       "| 3441 | 11.18 | 1 |\n",
       "\n"
      ],
      "text/plain": [
       "  Temperature A_M   Type\n",
       "1 3068        16.12 0   \n",
       "2 1939        20.06 0   \n",
       "3 2637        17.22 0   \n",
       "4 2600        17.40 0   \n",
       "5 3129        11.79 1   \n",
       "6 3441        11.18 1   "
      ]
     },
     "metadata": {},
     "output_type": "display_data"
    }
   ],
   "source": [
    "star_split <- initial_split(stars, prop = 0.75, strata = Type)\n",
    "star_training <- training(star_split)\n",
    "star_testing <- testing(star_split)\n",
    "\n",
    "head(star_training)\n",
    "head(star_testing)"
   ]
  },
  {
   "cell_type": "markdown",
   "metadata": {},
   "source": [
    "Next, we will create the recipe using `recipe` function and `stars_training` data. We also need to standardize our training data since K-nearest neighbors is sensitive to the scale of the predictors. We first pass the target variable `Type` and predictors `Temperature` and `A_M` to the `recipe` function. To scale the predictors, we use `step_scale(all_predictors())` function; to center the predictors, we use `step_center(all_predictors())` function."
   ]
  },
  {
   "cell_type": "code",
   "execution_count": 7,
   "metadata": {},
   "outputs": [
    {
     "data": {
      "text/plain": [
       "Data Recipe\n",
       "\n",
       "Inputs:\n",
       "\n",
       "      role #variables\n",
       "   outcome          1\n",
       " predictor          2\n",
       "\n",
       "Operations:\n",
       "\n",
       "Scaling for all_predictors()\n",
       "Centering for all_predictors()"
      ]
     },
     "metadata": {},
     "output_type": "display_data"
    }
   ],
   "source": [
    "star_recipe <- recipe(Type ~ Temperature + A_M, data = star_training) %>%\n",
    "step_scale(all_predictors()) %>%\n",
    "step_center(all_predictors())\n",
    "\n",
    "star_recipe"
   ]
  },
  {
   "cell_type": "markdown",
   "metadata": {},
   "source": [
    "So far, we have split the training and testing datasets as well as preprocessed the data. Then, we will pick the best number of neighbors *K* to build the model. We want to use 5-fold-cross-validation to get a better estimate of accuracy, which will lead to a better choice of the number of neighbours *K* for the overall set of training data. In 5-fold-cross-validation, we split our overall training data into 5 evenly-sized chunks, and then iteratively use 1 chunk as the validation set and combine the remaining 5−1 chunks as the training set. To perform this, we use `vfold_cv` function. In the function, we identify the training set `stars_training`, the number of folds `v` = 5, and the `strata` argument is `Type`.  "
   ]
  },
  {
   "cell_type": "code",
   "execution_count": 8,
   "metadata": {},
   "outputs": [],
   "source": [
    "star_vfold <- vfold_cv(star_training, v = 5, strata = Type)"
   ]
  },
  {
   "cell_type": "markdown",
   "metadata": {},
   "source": [
    "Using a 5-fold cross-validation, we have established a prediction accuracy for our classifier. Then we want to create a *K*-nearest neighbor model specification. In the specification, we use `tune()` to let each parameter in the model can be adjusted rather than given a specific value. We call the model specification `star_spec`."
   ]
  },
  {
   "cell_type": "code",
   "execution_count": 9,
   "metadata": {},
   "outputs": [
    {
     "data": {
      "text/plain": [
       "K-Nearest Neighbor Model Specification (classification)\n",
       "\n",
       "Main Arguments:\n",
       "  neighbors = tune()\n",
       "  weight_func = rectangular\n",
       "\n",
       "Computational engine: kknn \n"
      ]
     },
     "metadata": {},
     "output_type": "display_data"
    }
   ],
   "source": [
    "star_spec <- nearest_neighbor(weight_func = \"rectangular\", neighbors = tune()) %>%\n",
    "set_engine(\"kknn\") %>%\n",
    "set_mode(\"classification\")\n",
    "\n",
    "star_spec"
   ]
  },
  {
   "cell_type": "markdown",
   "metadata": {},
   "source": [
    "Then we create a `workflow()` analysis that combines `star_recipe` and `star_spec` model specification. In the workflow, we will use `tune_grid` function to fit the model for each value in a range of parameter values. For the `resamples` argument, input the `star_vfold` model we created earlier. The `grid` argument specifies that the tuning should try *X* amount of values of the number of neighbors *K* when tuning. In this project, we use number of neighbors from 1 to 50. Finally, we use `collect_metrics()` to  aggregate the mean and standard error. We call this workflow analysis `star_results`."
   ]
  },
  {
   "cell_type": "code",
   "execution_count": 10,
   "metadata": {},
   "outputs": [
    {
     "data": {
      "text/html": [
       "<table>\n",
       "<caption>A tibble: 6 × 7</caption>\n",
       "<thead>\n",
       "\t<tr><th scope=col>neighbors</th><th scope=col>.metric</th><th scope=col>.estimator</th><th scope=col>mean</th><th scope=col>n</th><th scope=col>std_err</th><th scope=col>.config</th></tr>\n",
       "\t<tr><th scope=col>&lt;int&gt;</th><th scope=col>&lt;chr&gt;</th><th scope=col>&lt;chr&gt;</th><th scope=col>&lt;dbl&gt;</th><th scope=col>&lt;int&gt;</th><th scope=col>&lt;dbl&gt;</th><th scope=col>&lt;chr&gt;</th></tr>\n",
       "</thead>\n",
       "<tbody>\n",
       "\t<tr><td>1</td><td>accuracy</td><td>multiclass</td><td>0.9444444</td><td>5</td><td>0.015214515</td><td>Model01</td></tr>\n",
       "\t<tr><td>1</td><td>roc_auc </td><td>hand_till </td><td>0.9666667</td><td>5</td><td>0.009128709</td><td>Model01</td></tr>\n",
       "\t<tr><td>2</td><td>accuracy</td><td>multiclass</td><td>0.9444444</td><td>5</td><td>0.015214515</td><td>Model02</td></tr>\n",
       "\t<tr><td>2</td><td>roc_auc </td><td>hand_till </td><td>0.9710185</td><td>5</td><td>0.007471654</td><td>Model02</td></tr>\n",
       "\t<tr><td>3</td><td>accuracy</td><td>multiclass</td><td>0.9166667</td><td>5</td><td>0.017568209</td><td>Model03</td></tr>\n",
       "\t<tr><td>3</td><td>roc_auc </td><td>hand_till </td><td>0.9743519</td><td>5</td><td>0.004852506</td><td>Model03</td></tr>\n",
       "</tbody>\n",
       "</table>\n"
      ],
      "text/latex": [
       "A tibble: 6 × 7\n",
       "\\begin{tabular}{lllllll}\n",
       " neighbors & .metric & .estimator & mean & n & std\\_err & .config\\\\\n",
       " <int> & <chr> & <chr> & <dbl> & <int> & <dbl> & <chr>\\\\\n",
       "\\hline\n",
       "\t 1 & accuracy & multiclass & 0.9444444 & 5 & 0.015214515 & Model01\\\\\n",
       "\t 1 & roc\\_auc  & hand\\_till  & 0.9666667 & 5 & 0.009128709 & Model01\\\\\n",
       "\t 2 & accuracy & multiclass & 0.9444444 & 5 & 0.015214515 & Model02\\\\\n",
       "\t 2 & roc\\_auc  & hand\\_till  & 0.9710185 & 5 & 0.007471654 & Model02\\\\\n",
       "\t 3 & accuracy & multiclass & 0.9166667 & 5 & 0.017568209 & Model03\\\\\n",
       "\t 3 & roc\\_auc  & hand\\_till  & 0.9743519 & 5 & 0.004852506 & Model03\\\\\n",
       "\\end{tabular}\n"
      ],
      "text/markdown": [
       "\n",
       "A tibble: 6 × 7\n",
       "\n",
       "| neighbors &lt;int&gt; | .metric &lt;chr&gt; | .estimator &lt;chr&gt; | mean &lt;dbl&gt; | n &lt;int&gt; | std_err &lt;dbl&gt; | .config &lt;chr&gt; |\n",
       "|---|---|---|---|---|---|---|\n",
       "| 1 | accuracy | multiclass | 0.9444444 | 5 | 0.015214515 | Model01 |\n",
       "| 1 | roc_auc  | hand_till  | 0.9666667 | 5 | 0.009128709 | Model01 |\n",
       "| 2 | accuracy | multiclass | 0.9444444 | 5 | 0.015214515 | Model02 |\n",
       "| 2 | roc_auc  | hand_till  | 0.9710185 | 5 | 0.007471654 | Model02 |\n",
       "| 3 | accuracy | multiclass | 0.9166667 | 5 | 0.017568209 | Model03 |\n",
       "| 3 | roc_auc  | hand_till  | 0.9743519 | 5 | 0.004852506 | Model03 |\n",
       "\n"
      ],
      "text/plain": [
       "  neighbors .metric  .estimator mean      n std_err     .config\n",
       "1 1         accuracy multiclass 0.9444444 5 0.015214515 Model01\n",
       "2 1         roc_auc  hand_till  0.9666667 5 0.009128709 Model01\n",
       "3 2         accuracy multiclass 0.9444444 5 0.015214515 Model02\n",
       "4 2         roc_auc  hand_till  0.9710185 5 0.007471654 Model02\n",
       "5 3         accuracy multiclass 0.9166667 5 0.017568209 Model03\n",
       "6 3         roc_auc  hand_till  0.9743519 5 0.004852506 Model03"
      ]
     },
     "metadata": {},
     "output_type": "display_data"
    }
   ],
   "source": [
    "gridvals <- tibble(neighbors = seq(from = 1, to = 50))\n",
    "\n",
    "star_results <- workflow() %>%\n",
    "add_recipe(star_recipe) %>%\n",
    "add_model(star_spec) %>%\n",
    "tune_grid(resamples = star_vfold, grid = gridvals) %>%\n",
    "collect_metrics()\n",
    "\n",
    "head(star_results)"
   ]
  },
  {
   "cell_type": "markdown",
   "metadata": {},
   "source": [
    "Now, we can find the best value of the number of neighbors based on `star_results`. We first filter for `accuracy` from the `.metric` column, we call the dataset `accuracies`. Then, we create a line plot using the `accuracies` dataset with `neighbors` on the x-axis and the `mean` on the y-axis. We call the plot `accuracy_vs_k`."
   ]
  },
  {
   "cell_type": "code",
   "execution_count": 11,
   "metadata": {},
   "outputs": [
    {
     "data": {
      "image/png": "[encoded data removed]",
      "text/plain": [
       "plot without title"
      ]
     },
     "metadata": {
      "image/png": {
       "height": 480,
       "width": 600
      }
     },
     "output_type": "display_data"
    }
   ],
   "source": [
    "accuracies <- star_results %>%\n",
    "filter(.metric == \"accuracy\")\n",
    "\n",
    "accuracy_vs_k <- accuracies %>% \n",
    "ggplot(aes(x = neighbors, y = mean)) +\n",
    "geom_point() +\n",
    "geom_line() +\n",
    "labs(x = \"Neighbors\", y = \"Accuracy Estimate\") +\n",
    "theme(text = element_text(size = 20))\n",
    "\n",
    "accuracy_vs_k"
   ]
  },
  {
   "cell_type": "markdown",
   "metadata": {},
   "source": [
    "We can observe from the above plot that *K* = 1, 2 provides the highest accuracy. Therefore, we choose *K* = 2 as the best value of number of neighbors. Now, we will create a new model specification with *K* = 2, we call this new model specification `star_best_spec`. "
   ]
  },
  {
   "cell_type": "code",
   "execution_count": 12,
   "metadata": {},
   "outputs": [
    {
     "data": {
      "text/plain": [
       "K-Nearest Neighbor Model Specification (classification)\n",
       "\n",
       "Main Arguments:\n",
       "  neighbors = 2\n",
       "  weight_func = rectangular\n",
       "\n",
       "Computational engine: kknn \n"
      ]
     },
     "metadata": {},
     "output_type": "display_data"
    }
   ],
   "source": [
    "star_best_spec <- nearest_neighbor(weight_func = \"rectangular\", neighbors = 2) %>%\n",
    "set_engine(\"kknn\") %>%\n",
    "set_mode(\"classification\")\n",
    "\n",
    "star_best_spec"
   ]
  },
  {
   "cell_type": "markdown",
   "metadata": {},
   "source": [
    "Then, we train the classifier with the training data `star_training` set using the `workflow` function, so we can bundle together the pre-processing, modeling, and post-processing requests. We name the workflow `star_fit`."
   ]
  },
  {
   "cell_type": "code",
   "execution_count": 13,
   "metadata": {},
   "outputs": [
    {
     "data": {
      "text/plain": [
       "══ Workflow [trained] ══════════════════════════════════════════════════════════\n",
       "\u001b[3mPreprocessor:\u001b[23m Recipe\n",
       "\u001b[3mModel:\u001b[23m nearest_neighbor()\n",
       "\n",
       "── Preprocessor ────────────────────────────────────────────────────────────────\n",
       "2 Recipe Steps\n",
       "\n",
       "● step_scale()\n",
       "● step_center()\n",
       "\n",
       "── Model ───────────────────────────────────────────────────────────────────────\n",
       "\n",
       "Call:\n",
       "kknn::train.kknn(formula = ..y ~ ., data = data, ks = ~2, kernel = ~\"rectangular\")\n",
       "\n",
       "Type of response variable: nominal\n",
       "Minimal misclassification: 0.07777778\n",
       "Best kernel: rectangular\n",
       "Best k: 2"
      ]
     },
     "metadata": {},
     "output_type": "display_data"
    }
   ],
   "source": [
    "star_fit <- workflow() %>%\n",
    "add_recipe(star_recipe) %>%\n",
    "add_model(star_best_spec) %>%\n",
    "fit(data = star_training)\n",
    "\n",
    "star_fit"
   ]
  },
  {
   "cell_type": "markdown",
   "metadata": {},
   "source": [
    "Now we are ready to predict the class labels for our testing set. We pass the fitted model and the test dataset `star_testing` to the `predict` function. Then, we use the `bind_cols` function to add the column of predictions to the original test data. We call the predictions `star_predictions`."
   ]
  },
  {
   "cell_type": "code",
   "execution_count": 14,
   "metadata": {},
   "outputs": [
    {
     "data": {
      "text/html": [
       "<table>\n",
       "<caption>A tibble: 6 × 4</caption>\n",
       "<thead>\n",
       "\t<tr><th scope=col>.pred_class</th><th scope=col>Temperature</th><th scope=col>A_M</th><th scope=col>Type</th></tr>\n",
       "\t<tr><th scope=col>&lt;fct&gt;</th><th scope=col>&lt;dbl&gt;</th><th scope=col>&lt;dbl&gt;</th><th scope=col>&lt;fct&gt;</th></tr>\n",
       "</thead>\n",
       "<tbody>\n",
       "\t<tr><td>0</td><td>3068</td><td>16.12</td><td>0</td></tr>\n",
       "\t<tr><td>0</td><td>1939</td><td>20.06</td><td>0</td></tr>\n",
       "\t<tr><td>0</td><td>2637</td><td>17.22</td><td>0</td></tr>\n",
       "\t<tr><td>0</td><td>2600</td><td>17.40</td><td>0</td></tr>\n",
       "\t<tr><td>1</td><td>3129</td><td>11.79</td><td>1</td></tr>\n",
       "\t<tr><td>1</td><td>3441</td><td>11.18</td><td>1</td></tr>\n",
       "</tbody>\n",
       "</table>\n"
      ],
      "text/latex": [
       "A tibble: 6 × 4\n",
       "\\begin{tabular}{llll}\n",
       " .pred\\_class & Temperature & A\\_M & Type\\\\\n",
       " <fct> & <dbl> & <dbl> & <fct>\\\\\n",
       "\\hline\n",
       "\t 0 & 3068 & 16.12 & 0\\\\\n",
       "\t 0 & 1939 & 20.06 & 0\\\\\n",
       "\t 0 & 2637 & 17.22 & 0\\\\\n",
       "\t 0 & 2600 & 17.40 & 0\\\\\n",
       "\t 1 & 3129 & 11.79 & 1\\\\\n",
       "\t 1 & 3441 & 11.18 & 1\\\\\n",
       "\\end{tabular}\n"
      ],
      "text/markdown": [
       "\n",
       "A tibble: 6 × 4\n",
       "\n",
       "| .pred_class &lt;fct&gt; | Temperature &lt;dbl&gt; | A_M &lt;dbl&gt; | Type &lt;fct&gt; |\n",
       "|---|---|---|---|\n",
       "| 0 | 3068 | 16.12 | 0 |\n",
       "| 0 | 1939 | 20.06 | 0 |\n",
       "| 0 | 2637 | 17.22 | 0 |\n",
       "| 0 | 2600 | 17.40 | 0 |\n",
       "| 1 | 3129 | 11.79 | 1 |\n",
       "| 1 | 3441 | 11.18 | 1 |\n",
       "\n"
      ],
      "text/plain": [
       "  .pred_class Temperature A_M   Type\n",
       "1 0           3068        16.12 0   \n",
       "2 0           1939        20.06 0   \n",
       "3 0           2637        17.22 0   \n",
       "4 0           2600        17.40 0   \n",
       "5 1           3129        11.79 1   \n",
       "6 1           3441        11.18 1   "
      ]
     },
     "metadata": {},
     "output_type": "display_data"
    },
    {
     "data": {
      "text/html": [
       "<table>\n",
       "<caption>A tibble: 6 × 4</caption>\n",
       "<thead>\n",
       "\t<tr><th scope=col>.pred_class</th><th scope=col>Temperature</th><th scope=col>A_M</th><th scope=col>Type</th></tr>\n",
       "\t<tr><th scope=col>&lt;fct&gt;</th><th scope=col>&lt;dbl&gt;</th><th scope=col>&lt;dbl&gt;</th><th scope=col>&lt;fct&gt;</th></tr>\n",
       "</thead>\n",
       "<tbody>\n",
       "\t<tr><td>3</td><td>22012</td><td> -2.55</td><td>3</td></tr>\n",
       "\t<tr><td>3</td><td>19400</td><td> -3.08</td><td>3</td></tr>\n",
       "\t<tr><td>5</td><td>18734</td><td> -7.45</td><td>4</td></tr>\n",
       "\t<tr><td>5</td><td> 8829</td><td>-10.73</td><td>5</td></tr>\n",
       "\t<tr><td>5</td><td> 9235</td><td>-11.23</td><td>5</td></tr>\n",
       "\t<tr><td>5</td><td>37882</td><td> -7.80</td><td>5</td></tr>\n",
       "</tbody>\n",
       "</table>\n"
      ],
      "text/latex": [
       "A tibble: 6 × 4\n",
       "\\begin{tabular}{llll}\n",
       " .pred\\_class & Temperature & A\\_M & Type\\\\\n",
       " <fct> & <dbl> & <dbl> & <fct>\\\\\n",
       "\\hline\n",
       "\t 3 & 22012 &  -2.55 & 3\\\\\n",
       "\t 3 & 19400 &  -3.08 & 3\\\\\n",
       "\t 5 & 18734 &  -7.45 & 4\\\\\n",
       "\t 5 &  8829 & -10.73 & 5\\\\\n",
       "\t 5 &  9235 & -11.23 & 5\\\\\n",
       "\t 5 & 37882 &  -7.80 & 5\\\\\n",
       "\\end{tabular}\n"
      ],
      "text/markdown": [
       "\n",
       "A tibble: 6 × 4\n",
       "\n",
       "| .pred_class &lt;fct&gt; | Temperature &lt;dbl&gt; | A_M &lt;dbl&gt; | Type &lt;fct&gt; |\n",
       "|---|---|---|---|\n",
       "| 3 | 22012 |  -2.55 | 3 |\n",
       "| 3 | 19400 |  -3.08 | 3 |\n",
       "| 5 | 18734 |  -7.45 | 4 |\n",
       "| 5 |  8829 | -10.73 | 5 |\n",
       "| 5 |  9235 | -11.23 | 5 |\n",
       "| 5 | 37882 |  -7.80 | 5 |\n",
       "\n"
      ],
      "text/plain": [
       "  .pred_class Temperature A_M    Type\n",
       "1 3           22012        -2.55 3   \n",
       "2 3           19400        -3.08 3   \n",
       "3 5           18734        -7.45 4   \n",
       "4 5            8829       -10.73 5   \n",
       "5 5            9235       -11.23 5   \n",
       "6 5           37882        -7.80 5   "
      ]
     },
     "metadata": {},
     "output_type": "display_data"
    }
   ],
   "source": [
    "star_predictions <- predict(star_fit, star_testing) %>%\n",
    "bind_cols(star_testing)\n",
    "\n",
    "head(star_predictions)\n",
    "tail(star_predictions)"
   ]
  },
  {
   "cell_type": "markdown",
   "metadata": {},
   "source": [
    "We also want to see our classifier's accuracy. So we use `metrics` function to help us. We input `Type` as the `truth` argument, and `.pred_class` as the `estimate` argument, then we `filter` the `accuracy` row to see the accuracy of our classifier. We call this object `star_test_predictions`."
   ]
  },
  {
   "cell_type": "code",
   "execution_count": 15,
   "metadata": {},
   "outputs": [
    {
     "data": {
      "text/html": [
       "<table>\n",
       "<caption>A tibble: 1 × 3</caption>\n",
       "<thead>\n",
       "\t<tr><th scope=col>.metric</th><th scope=col>.estimator</th><th scope=col>.estimate</th></tr>\n",
       "\t<tr><th scope=col>&lt;chr&gt;</th><th scope=col>&lt;chr&gt;</th><th scope=col>&lt;dbl&gt;</th></tr>\n",
       "</thead>\n",
       "<tbody>\n",
       "\t<tr><td>accuracy</td><td>multiclass</td><td>0.9666667</td></tr>\n",
       "</tbody>\n",
       "</table>\n"
      ],
      "text/latex": [
       "A tibble: 1 × 3\n",
       "\\begin{tabular}{lll}\n",
       " .metric & .estimator & .estimate\\\\\n",
       " <chr> & <chr> & <dbl>\\\\\n",
       "\\hline\n",
       "\t accuracy & multiclass & 0.9666667\\\\\n",
       "\\end{tabular}\n"
      ],
      "text/markdown": [
       "\n",
       "A tibble: 1 × 3\n",
       "\n",
       "| .metric &lt;chr&gt; | .estimator &lt;chr&gt; | .estimate &lt;dbl&gt; |\n",
       "|---|---|---|\n",
       "| accuracy | multiclass | 0.9666667 |\n",
       "\n"
      ],
      "text/plain": [
       "  .metric  .estimator .estimate\n",
       "1 accuracy multiclass 0.9666667"
      ]
     },
     "metadata": {},
     "output_type": "display_data"
    }
   ],
   "source": [
    "star_test_predictions <- star_predictions %>%\n",
    "metrics(truth = Type, estimate = .pred_class) %>%\n",
    "filter(.metric == \"accuracy\")\n",
    "\n",
    "star_test_predictions"
   ]
  },
  {
   "cell_type": "markdown",
   "metadata": {},
   "source": [
    "As we can see, our classifier's accuracy is about 96.67%. We also want to look at the confusion matrix for the classifier, which shows us the table of predicted labels and correct labels. We perform this using `conf_mat` function, we need to specify the `truth` and `estimate` argument as we did in `metrics` function. We call this confusion matrix `star_mat`."
   ]
  },
  {
   "cell_type": "code",
   "execution_count": 16,
   "metadata": {},
   "outputs": [
    {
     "data": {
      "text/plain": [
       "          Truth\n",
       "Prediction  0  1  2  3  4  5\n",
       "         0 10  0  0  0  0  0\n",
       "         1  0 10  0  0  0  0\n",
       "         2  0  0 10  0  0  0\n",
       "         3  0  0  0 10  1  0\n",
       "         4  0  0  0  0  8  0\n",
       "         5  0  0  0  0  1 10"
      ]
     },
     "metadata": {},
     "output_type": "display_data"
    }
   ],
   "source": [
    "star_mat <- star_predictions %>%\n",
    "conf_mat(truth = Type, estimate = .pred_class)\n",
    "\n",
    "star_mat"
   ]
  },
  {
   "cell_type": "code",
   "execution_count": null,
   "metadata": {},
   "outputs": [],
   "source": []
  }
 ],
 "metadata": {
  "kernelspec": {
   "display_name": "R",
   "language": "R",
   "name": "ir"
  },
  "language_info": {
   "codemirror_mode": "r",
   "file_extension": ".r",
   "mimetype": "text/x-r-source",
   "name": "R",
   "pygments_lexer": "r",
   "version": "4.0.0"
  }
 },
 "nbformat": 4,
 "nbformat_minor": 4
}
